{
 "cells": [
  {
   "cell_type": "code",
   "execution_count": 1,
   "metadata": {},
   "outputs": [],
   "source": [
    "import sys\n",
    "import torch\n",
    "import numpy as np\n",
    "import torch.nn as nn\n",
    "\n",
    "sys.path.append('../model')\n",
    "from NNs import M_NNs, B_NNs, G_NNs\n",
    "from DeLan import Dynamic_System\n",
    "\n",
    "sys.path.append('../utils')\n",
    "from dataloader import MatDataLoader\n",
    "from model_builder import KFoldTraining"
   ]
  },
  {
   "cell_type": "code",
   "execution_count": 3,
   "metadata": {},
   "outputs": [
    {
     "name": "stdout",
     "output_type": "stream",
     "text": [
      "{'theta': tensor([ 0.2260, -0.0720,  0.5024], dtype=torch.float64), 'theta_dot': tensor([ 0.1988, -0.1223, -0.1046], dtype=torch.float64), 'theta_Ddot': tensor([-0.0067,  0.1172, -0.1100], dtype=torch.float64), 's': tensor([ 1.0000e-01,  2.5133e-04, -2.9999e-01], dtype=torch.float64), 's_Ddot': tensor([-3.9478e-02, -7.4415e-05, -5.6843e-11], dtype=torch.float64), 'tau': tensor([-1.8662, -0.7481,  0.2251], dtype=torch.float64)}\n",
      "{'theta': tensor([ 0.2294, -0.0740,  0.5006], dtype=torch.float64), 'theta_dot': tensor([ 0.1987, -0.1203, -0.1065], dtype=torch.float64), 'theta_Ddot': tensor([-0.0085,  0.1177, -0.1098], dtype=torch.float64), 's': tensor([ 0.1000,  0.0013, -0.2999], dtype=torch.float64), 's_Ddot': tensor([-0.0395, -0.0005,  0.0000], dtype=torch.float64), 'tau': tensor([-1.8610, -0.7599,  0.2318], dtype=torch.float64)}\n"
     ]
    }
   ],
   "source": [
    "'''\n",
    "Preparing data...\n",
    "'''\n",
    "data_dir = \"../data/\"\n",
    "data_length = 49998\n",
    "data_set = MatDataLoader(data_length, data_dir)"
   ]
  },
  {
   "cell_type": "code",
   "execution_count": null,
   "metadata": {},
   "outputs": [
    {
     "name": "stdout",
     "output_type": "stream",
     "text": [
      "\n",
      "Fold 1/5\n",
      "Training size: 39996, Validation size: 9999\n",
      "--------------------------------------------------\n",
      "Epoch 1/80, Train Loss: 0.484445, Val Loss: 0.036252\n",
      "f_v1: 0.04494384303689003, f_v2: 0.04595687985420227, f_v3: 0.04424115642905235\n",
      "f_c1: 0.04475494101643562, f_c2: 0.04591578245162964, f_c3: 0.04423675686120987\n",
      "--------------------------------------------------\n",
      "Epoch 2/80, Train Loss: 0.029597, Val Loss: 0.025870\n",
      "f_v1: 0.04455855116248131, f_v2: 0.04566984623670578, f_v3: 0.04367445781826973\n",
      "f_c1: 0.04435634985566139, f_c2: 0.04562589153647423, f_c3: 0.04367363825440407\n",
      "--------------------------------------------------\n",
      "Epoch 3/80, Train Loss: 0.023399, Val Loss: 0.021740\n",
      "f_v1: 0.04429727792739868, f_v2: 0.0454481765627861, f_v3: 0.043258748948574066\n",
      "f_c1: 0.0440959632396698, f_c2: 0.045401811599731445, f_c3: 0.04325881227850914\n",
      "--------------------------------------------------\n",
      "Epoch 4/80, Train Loss: 0.019670, Val Loss: 0.017858\n",
      "f_v1: 0.04411344230175018, f_v2: 0.045235589146614075, f_v3: 0.042891789227724075\n",
      "f_c1: 0.04391609504818916, f_c2: 0.04518552124500275, f_c3: 0.042884744703769684\n",
      "--------------------------------------------------\n",
      "Epoch 5/80, Train Loss: 0.015103, Val Loss: 0.012496\n",
      "f_v1: 0.04406154900789261, f_v2: 0.04494761303067207, f_v3: 0.042558591812849045\n",
      "f_c1: 0.043866973370313644, f_c2: 0.04489315301179886, f_c3: 0.04250604659318924\n",
      "--------------------------------------------------\n",
      "Epoch 6/80, Train Loss: 0.010559, Val Loss: 0.009504\n",
      "f_v1: 0.04436130449175835, f_v2: 0.0446806363761425, f_v3: 0.042359888553619385\n",
      "f_c1: 0.04414012283086777, f_c2: 0.04457155987620354, f_c3: 0.04215419292449951\n",
      "--------------------------------------------------\n",
      "Epoch 7/80, Train Loss: 0.008706, Val Loss: 0.008459\n",
      "f_v1: 0.045228324830532074, f_v2: 0.04480534419417381, f_v3: 0.042392875999212265\n",
      "f_c1: 0.044890329241752625, f_c2: 0.044539496302604675, f_c3: 0.041992366313934326\n",
      "--------------------------------------------------\n",
      "Epoch 8/80, Train Loss: 0.007942, Val Loss: 0.007862\n",
      "f_v1: 0.04711631312966347, f_v2: 0.045247066766023636, f_v3: 0.0429062582552433\n",
      "f_c1: 0.04669161140918732, f_c2: 0.044807836413383484, f_c3: 0.042253024876117706\n",
      "--------------------------------------------------\n",
      "Epoch 9/80, Train Loss: 0.007397, Val Loss: 0.007301\n",
      "f_v1: 0.05043916404247284, f_v2: 0.04610941931605339, f_v3: 0.04405714198946953\n",
      "f_c1: 0.0501684844493866, f_c2: 0.045501500368118286, f_c3: 0.04310482367873192\n",
      "--------------------------------------------------\n"
     ]
    }
   ],
   "source": [
    "device = 'cuda' if torch.cuda.is_available() else 'cpu'\n",
    "dynamic_system_instance = Dynamic_System(device)\n",
    "\n",
    "builder = KFoldTraining(device = device, dataset = data_set, k_folds = 5, dynamic_system_instance = dynamic_system_instance)\n",
    "builder.train(epochs = 80, batch_size = 64, learning_rate = 1e-4)"
   ]
  }
 ],
 "metadata": {
  "kernelspec": {
   "display_name": "DemoPublicationEnv",
   "language": "python",
   "name": "python3"
  },
  "language_info": {
   "codemirror_mode": {
    "name": "ipython",
    "version": 3
   },
   "file_extension": ".py",
   "mimetype": "text/x-python",
   "name": "python",
   "nbconvert_exporter": "python",
   "pygments_lexer": "ipython3",
   "version": "3.12.7"
  }
 },
 "nbformat": 4,
 "nbformat_minor": 2
}
