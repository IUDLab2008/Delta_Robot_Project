{
 "cells": [
  {
   "cell_type": "code",
   "execution_count": 1,
   "metadata": {},
   "outputs": [],
   "source": [
    "import sys\n",
    "import torch\n",
    "import numpy as np\n",
    "import torch.nn as nn\n",
    "\n",
    "sys.path.append('../model')\n",
    "from NNs import M_NNs, B_NNs, G_NNs\n",
    "from DeLan import Dynamic_System\n",
    "\n",
    "sys.path.append('../utils')\n",
    "from dataloader import MatDataLoader\n",
    "from model_builder_v2 import KFoldTraining"
   ]
  },
  {
   "cell_type": "code",
   "execution_count": 2,
   "metadata": {},
   "outputs": [
    {
     "name": "stdout",
     "output_type": "stream",
     "text": [
      "{'theta': tensor([ 0.2260, -0.0720,  0.5024], dtype=torch.float64), 'theta_dot': tensor([ 0.1988, -0.1223, -0.1046], dtype=torch.float64), 'theta_Ddot': tensor([-0.0067,  0.1172, -0.1100], dtype=torch.float64), 's': tensor([ 1.0000e-01,  2.5133e-04, -2.9999e-01], dtype=torch.float64), 's_Ddot': tensor([-3.9478e-02, -7.4415e-05, -5.6843e-11], dtype=torch.float64), 'tau': tensor([-1.8662, -0.7481,  0.2251], dtype=torch.float64)}\n",
      "{'theta': tensor([ 0.2294, -0.0740,  0.5006], dtype=torch.float64), 'theta_dot': tensor([ 0.1987, -0.1203, -0.1065], dtype=torch.float64), 'theta_Ddot': tensor([-0.0085,  0.1177, -0.1098], dtype=torch.float64), 's': tensor([ 0.1000,  0.0013, -0.2999], dtype=torch.float64), 's_Ddot': tensor([-0.0395, -0.0005,  0.0000], dtype=torch.float64), 'tau': tensor([-1.8610, -0.7599,  0.2318], dtype=torch.float64)}\n"
     ]
    }
   ],
   "source": [
    "'''\n",
    "Preparing data...\n",
    "'''\n",
    "data_dir = \"../data/\"\n",
    "data_length = 49998\n",
    "data_set = MatDataLoader(data_length, data_dir)\n",
    "\n",
    "print(data_set.__getitem__(1))\n",
    "print(data_set.__getitem__(18))\n"
   ]
  },
  {
   "cell_type": "code",
   "execution_count": null,
   "metadata": {},
   "outputs": [
    {
     "name": "stdout",
     "output_type": "stream",
     "text": [
      "\n",
      "Fold 1/5\n",
      "Training size: 39996, Validation size: 9999\n",
      "--------------------------------------------------\n",
      "Epoch 1/80, Train Loss: 0.274133, Val Loss: 0.033117\n",
      "f_v1: 0.042355574667453766, f_v2: 0.044960979372262955, f_v3: 0.0433318167924881\n",
      "f_c1: 0.04222762957215309, f_c2: 0.04507724195718765, f_c3: 0.043254781514406204\n",
      "--------------------------------------------------\n"
     ]
    }
   ],
   "source": [
    "device = 'cuda' if torch.cuda.is_available() else 'cpu'\n",
    "dynamic_system_instance = Dynamic_System(device)\n",
    "builder = KFoldTraining(device = device, dataset = data_set, k_folds = 5, dynamic_system_instance = dynamic_system_instance)\n",
    "builder.train(epochs = 80, batch_size = 64, learning_rate = 1e-4)"
   ]
  }
 ],
 "metadata": {
  "kernelspec": {
   "display_name": "DemoPublicationEnv",
   "language": "python",
   "name": "python3"
  },
  "language_info": {
   "codemirror_mode": {
    "name": "ipython",
    "version": 3
   },
   "file_extension": ".py",
   "mimetype": "text/x-python",
   "name": "python",
   "nbconvert_exporter": "python",
   "pygments_lexer": "ipython3",
   "version": "3.12.7"
  }
 },
 "nbformat": 4,
 "nbformat_minor": 2
}
