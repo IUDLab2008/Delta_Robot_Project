{
 "cells": [
  {
   "cell_type": "code",
   "execution_count": null,
   "metadata": {},
   "outputs": [],
   "source": [
    "import sys\n",
    "import torch\n",
    "import numpy as np\n",
    "import torch.nn as nn\n",
    "\n",
    "sys.path.append('../model')\n",
    "from LNN_v4 import Dynamic_System\n",
    "\n",
    "sys.path.append('../utils')\n",
    "from dataloaderv3 import MatDataLoader\n",
    "from model_builder_v3 import KFoldTraining"
   ]
  },
  {
   "cell_type": "code",
   "execution_count": null,
   "metadata": {},
   "outputs": [],
   "source": [
    "'''\n",
    "Preparing data...\n",
    "'''\n",
    "data_dir = \"../data/\"\n",
    "data_length = 49998\n",
    "data_set = MatDataLoader(data_length, data_dir)"
   ]
  },
  {
   "cell_type": "code",
   "execution_count": null,
   "metadata": {},
   "outputs": [],
   "source": [
    "device = 'cuda' if torch.cuda.is_available() else 'cpu'\n",
    "dynamic_system_instance = Dynamic_System(device)\n",
    "\n",
    "builder = KFoldTraining(device = device, dataset = data_set, k_folds = 5, dynamic_system_instance = dynamic_system_instance)\n",
    "builder.train(epochs = 80, batch_size = 64, learning_rate = 1e-4)"
   ]
  }
 ],
 "metadata": {
  "kernelspec": {
   "display_name": "DemoPublicationEnv",
   "language": "python",
   "name": "python3"
  },
  "language_info": {
   "name": "python",
   "version": "3.12.7"
  }
 },
 "nbformat": 4,
 "nbformat_minor": 2
}
