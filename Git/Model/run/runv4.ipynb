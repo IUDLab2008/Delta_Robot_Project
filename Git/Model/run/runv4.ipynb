{
 "cells": [
  {
   "cell_type": "code",
   "execution_count": null,
   "metadata": {},
   "outputs": [],
   "source": [
    "import sys\n",
    "import torch\n",
    "import numpy as np\n",
    "import torch.nn as nn\n",
    "\n",
    "sys.path.append('../model')\n",
    "from LNN_v4 import Dynamic_System\n",
    "\n",
    "sys.path.append('../utils')\n",
    "from dataloaderv3 import MatDataLoader\n",
    "from model_builder_v4 import KFoldTraining"
   ]
  },
  {
   "cell_type": "code",
   "execution_count": 2,
   "metadata": {},
   "outputs": [],
   "source": [
    "'''\n",
    "Preparing data...\n",
    "'''\n",
    "data_dir = \"../data/\"\n",
    "data_length = 49998\n",
    "data_set = MatDataLoader(data_length, data_dir)"
   ]
  },
  {
   "cell_type": "code",
   "execution_count": 3,
   "metadata": {},
   "outputs": [
    {
     "name": "stdout",
     "output_type": "stream",
     "text": [
      "\n",
      "Fold 1/5\n",
      "Training size: 39996, Validation size: 9999\n",
      "--------------------------------------------------\n"
     ]
    },
    {
     "name": "stderr",
     "output_type": "stream",
     "text": [
      "c:\\Users\\FPTSHOP\\anaconda3\\envs\\DemoPublicationEnv\\Lib\\site-packages\\torch\\autograd\\graph.py:825: UserWarning: Attempting to run cuBLAS, but there was no current CUDA context! Attempting to set the primary context... (Triggered internally at C:\\actions-runner\\_work\\pytorch\\pytorch\\builder\\windows\\pytorch\\aten\\src\\ATen\\cuda\\CublasHandlePool.cpp:135.)\n",
      "  return Variable._execution_engine.run_backward(  # Calls into the C++ engine to run the backward pass\n"
     ]
    },
    {
     "name": "stdout",
     "output_type": "stream",
     "text": [
      "result shape: torch.Size([64, 3, 1])\n",
      "result shape: torch.Size([64, 3, 1])\n",
      "result shape: torch.Size([64, 3, 1])\n",
      "result shape: torch.Size([64, 3, 1])\n",
      "result shape: torch.Size([64, 3, 1])\n",
      "result shape: torch.Size([64, 3, 1])\n",
      "result shape: torch.Size([64, 3, 1])\n",
      "result shape: torch.Size([64, 3, 1])\n",
      "result shape: torch.Size([64, 3, 1])\n",
      "result shape: torch.Size([64, 3, 1])\n",
      "result shape: torch.Size([64, 3, 1])\n",
      "result shape: torch.Size([64, 3, 1])\n",
      "result shape: torch.Size([64, 3, 1])\n",
      "result shape: torch.Size([64, 3, 1])\n",
      "result shape: torch.Size([64, 3, 1])\n",
      "result shape: torch.Size([64, 3, 1])\n",
      "result shape: torch.Size([64, 3, 1])\n",
      "result shape: torch.Size([64, 3, 1])\n",
      "result shape: torch.Size([64, 3, 1])\n",
      "result shape: torch.Size([64, 3, 1])\n",
      "result shape: torch.Size([64, 3, 1])\n",
      "result shape: torch.Size([64, 3, 1])\n",
      "result shape: torch.Size([64, 3, 1])\n",
      "result shape: torch.Size([64, 3, 1])\n",
      "result shape: torch.Size([64, 3, 1])\n",
      "result shape: torch.Size([64, 3, 1])\n",
      "result shape: torch.Size([64, 3, 1])\n",
      "result shape: torch.Size([64, 3, 1])\n",
      "result shape: torch.Size([64, 3, 1])\n",
      "result shape: torch.Size([64, 3, 1])\n",
      "result shape: torch.Size([64, 3, 1])\n",
      "result shape: torch.Size([64, 3, 1])\n",
      "result shape: torch.Size([64, 3, 1])\n",
      "result shape: torch.Size([64, 3, 1])\n",
      "result shape: torch.Size([64, 3, 1])\n",
      "result shape: torch.Size([64, 3, 1])\n",
      "result shape: torch.Size([64, 3, 1])\n",
      "result shape: torch.Size([64, 3, 1])\n",
      "result shape: torch.Size([64, 3, 1])\n",
      "result shape: torch.Size([64, 3, 1])\n",
      "result shape: torch.Size([64, 3, 1])\n",
      "result shape: torch.Size([64, 3, 1])\n",
      "result shape: torch.Size([64, 3, 1])\n",
      "result shape: torch.Size([64, 3, 1])\n",
      "result shape: torch.Size([64, 3, 1])\n",
      "result shape: torch.Size([64, 3, 1])\n",
      "result shape: torch.Size([64, 3, 1])\n",
      "result shape: torch.Size([64, 3, 1])\n",
      "result shape: torch.Size([64, 3, 1])\n",
      "result shape: torch.Size([64, 3, 1])\n",
      "result shape: torch.Size([64, 3, 1])\n",
      "result shape: torch.Size([64, 3, 1])\n",
      "result shape: torch.Size([64, 3, 1])\n",
      "result shape: torch.Size([64, 3, 1])\n",
      "result shape: torch.Size([64, 3, 1])\n",
      "result shape: torch.Size([64, 3, 1])\n",
      "result shape: torch.Size([64, 3, 1])\n",
      "result shape: torch.Size([64, 3, 1])\n",
      "result shape: torch.Size([64, 3, 1])\n",
      "result shape: torch.Size([64, 3, 1])\n",
      "result shape: torch.Size([64, 3, 1])\n",
      "result shape: torch.Size([64, 3, 1])\n",
      "result shape: torch.Size([64, 3, 1])\n",
      "result shape: torch.Size([64, 3, 1])\n",
      "result shape: torch.Size([64, 3, 1])\n",
      "result shape: torch.Size([64, 3, 1])\n",
      "result shape: torch.Size([64, 3, 1])\n",
      "result shape: torch.Size([64, 3, 1])\n",
      "result shape: torch.Size([64, 3, 1])\n",
      "result shape: torch.Size([64, 3, 1])\n",
      "result shape: torch.Size([64, 3, 1])\n",
      "result shape: torch.Size([64, 3, 1])\n",
      "result shape: torch.Size([64, 3, 1])\n",
      "result shape: torch.Size([64, 3, 1])\n",
      "result shape: torch.Size([64, 3, 1])\n",
      "result shape: torch.Size([64, 3, 1])\n",
      "result shape: torch.Size([64, 3, 1])\n",
      "result shape: torch.Size([64, 3, 1])\n",
      "result shape: torch.Size([64, 3, 1])\n",
      "result shape: torch.Size([64, 3, 1])\n",
      "result shape: torch.Size([64, 3, 1])\n",
      "result shape: torch.Size([64, 3, 1])\n",
      "result shape: torch.Size([64, 3, 1])\n",
      "result shape: torch.Size([64, 3, 1])\n",
      "result shape: torch.Size([64, 3, 1])\n",
      "result shape: torch.Size([64, 3, 1])\n",
      "result shape: torch.Size([64, 3, 1])\n",
      "result shape: torch.Size([64, 3, 1])\n",
      "result shape: torch.Size([64, 3, 1])\n"
     ]
    },
    {
     "ename": "KeyboardInterrupt",
     "evalue": "",
     "output_type": "error",
     "traceback": [
      "\u001b[1;31m---------------------------------------------------------------------------\u001b[0m",
      "\u001b[1;31mKeyboardInterrupt\u001b[0m                         Traceback (most recent call last)",
      "Cell \u001b[1;32mIn[3], line 5\u001b[0m\n\u001b[0;32m      2\u001b[0m dynamic_system_instance \u001b[38;5;241m=\u001b[39m Dynamic_System(device)\n\u001b[0;32m      4\u001b[0m builder \u001b[38;5;241m=\u001b[39m KFoldTraining(device \u001b[38;5;241m=\u001b[39m device, dataset \u001b[38;5;241m=\u001b[39m data_set, k_folds \u001b[38;5;241m=\u001b[39m \u001b[38;5;241m5\u001b[39m, dynamic_system_instance \u001b[38;5;241m=\u001b[39m dynamic_system_instance)\n\u001b[1;32m----> 5\u001b[0m \u001b[43mbuilder\u001b[49m\u001b[38;5;241;43m.\u001b[39;49m\u001b[43mtrain\u001b[49m\u001b[43m(\u001b[49m\u001b[43mepochs\u001b[49m\u001b[43m \u001b[49m\u001b[38;5;241;43m=\u001b[39;49m\u001b[43m \u001b[49m\u001b[38;5;241;43m80\u001b[39;49m\u001b[43m,\u001b[49m\u001b[43m \u001b[49m\u001b[43mbatch_size\u001b[49m\u001b[43m \u001b[49m\u001b[38;5;241;43m=\u001b[39;49m\u001b[43m \u001b[49m\u001b[38;5;241;43m64\u001b[39;49m\u001b[43m,\u001b[49m\u001b[43m \u001b[49m\u001b[43mlearning_rate\u001b[49m\u001b[43m \u001b[49m\u001b[38;5;241;43m=\u001b[39;49m\u001b[43m \u001b[49m\u001b[38;5;241;43m1e-4\u001b[39;49m\u001b[43m)\u001b[49m\n",
      "File \u001b[1;32mc:\\Users\\FPTSHOP\\Desktop\\Project\\2. DeLan model\\Delta_Robot_Project\\Git\\Model\\run\\../utils\\model_builder_v3.py:184\u001b[0m, in \u001b[0;36mKFoldTraining.train\u001b[1;34m(self, epochs, batch_size, learning_rate)\u001b[0m\n\u001b[0;32m    181\u001b[0m \u001b[38;5;66;03m#---Loop over given epochs---#\u001b[39;00m\n\u001b[0;32m    182\u001b[0m \u001b[38;5;28;01mfor\u001b[39;00m epoch \u001b[38;5;129;01min\u001b[39;00m \u001b[38;5;28mrange\u001b[39m(epochs):\n\u001b[1;32m--> 184\u001b[0m     train_loss \u001b[38;5;241m=\u001b[39m \u001b[38;5;28;43mself\u001b[39;49m\u001b[38;5;241;43m.\u001b[39;49m\u001b[43m__train_epoch\u001b[49m\u001b[43m(\u001b[49m\u001b[43mtrain_loader\u001b[49m\u001b[43m,\u001b[49m\u001b[43m \u001b[49m\u001b[43mdynamic_system\u001b[49m\u001b[43m,\u001b[49m\u001b[43m \u001b[49m\u001b[43moptimizer\u001b[49m\u001b[43m)\u001b[49m\n\u001b[0;32m    185\u001b[0m     val_loss \u001b[38;5;241m=\u001b[39m \u001b[38;5;28mself\u001b[39m\u001b[38;5;241m.\u001b[39m__val_epoch(val_loader, dynamic_system, optimizer)\n\u001b[0;32m    187\u001b[0m     fold_train_losses\u001b[38;5;241m.\u001b[39mappend(train_loss)\n",
      "File \u001b[1;32mc:\\Users\\FPTSHOP\\Desktop\\Project\\2. DeLan model\\Delta_Robot_Project\\Git\\Model\\run\\../utils\\model_builder_v3.py:51\u001b[0m, in \u001b[0;36mKFoldTraining.__train_epoch\u001b[1;34m(self, train_loader, dynamic_system, optimizer)\u001b[0m\n\u001b[0;32m     49\u001b[0m z \u001b[38;5;241m=\u001b[39m s[:, \u001b[38;5;241m2\u001b[39m:\u001b[38;5;241m3\u001b[39m]\n\u001b[0;32m     50\u001b[0m optimizer\u001b[38;5;241m.\u001b[39mzero_grad()\n\u001b[1;32m---> 51\u001b[0m q_Ddot_pred \u001b[38;5;241m=\u001b[39m \u001b[43mdynamic_system\u001b[49m\u001b[43m(\u001b[49m\u001b[43mq_dot\u001b[49m\u001b[43m,\u001b[49m\u001b[43m \u001b[49m\u001b[43ms_dot\u001b[49m\u001b[43m,\u001b[49m\u001b[43m \u001b[49m\u001b[43mq\u001b[49m\u001b[43m,\u001b[49m\u001b[43m \u001b[49m\u001b[43mz\u001b[49m\u001b[43m,\u001b[49m\u001b[43m \u001b[49m\u001b[43ms\u001b[49m\u001b[43m,\u001b[49m\u001b[43m \u001b[49m\u001b[43ms_Ddot\u001b[49m\u001b[43m,\u001b[49m\u001b[43m \u001b[49m\u001b[43mtau\u001b[49m\u001b[43m)\u001b[49m\n\u001b[0;32m     52\u001b[0m loss \u001b[38;5;241m=\u001b[39m \u001b[38;5;28mself\u001b[39m\u001b[38;5;241m.\u001b[39mcriterion(q_Ddot_pred, q_Ddot)\n\u001b[0;32m     53\u001b[0m loss\u001b[38;5;241m.\u001b[39mbackward(retain_graph\u001b[38;5;241m=\u001b[39m\u001b[38;5;28;01mTrue\u001b[39;00m)\n",
      "File \u001b[1;32mc:\\Users\\FPTSHOP\\anaconda3\\envs\\DemoPublicationEnv\\Lib\\site-packages\\torch\\nn\\modules\\module.py:1736\u001b[0m, in \u001b[0;36mModule._wrapped_call_impl\u001b[1;34m(self, *args, **kwargs)\u001b[0m\n\u001b[0;32m   1734\u001b[0m     \u001b[38;5;28;01mreturn\u001b[39;00m \u001b[38;5;28mself\u001b[39m\u001b[38;5;241m.\u001b[39m_compiled_call_impl(\u001b[38;5;241m*\u001b[39margs, \u001b[38;5;241m*\u001b[39m\u001b[38;5;241m*\u001b[39mkwargs)  \u001b[38;5;66;03m# type: ignore[misc]\u001b[39;00m\n\u001b[0;32m   1735\u001b[0m \u001b[38;5;28;01melse\u001b[39;00m:\n\u001b[1;32m-> 1736\u001b[0m     \u001b[38;5;28;01mreturn\u001b[39;00m \u001b[38;5;28;43mself\u001b[39;49m\u001b[38;5;241;43m.\u001b[39;49m\u001b[43m_call_impl\u001b[49m\u001b[43m(\u001b[49m\u001b[38;5;241;43m*\u001b[39;49m\u001b[43margs\u001b[49m\u001b[43m,\u001b[49m\u001b[43m \u001b[49m\u001b[38;5;241;43m*\u001b[39;49m\u001b[38;5;241;43m*\u001b[39;49m\u001b[43mkwargs\u001b[49m\u001b[43m)\u001b[49m\n",
      "File \u001b[1;32mc:\\Users\\FPTSHOP\\anaconda3\\envs\\DemoPublicationEnv\\Lib\\site-packages\\torch\\nn\\modules\\module.py:1747\u001b[0m, in \u001b[0;36mModule._call_impl\u001b[1;34m(self, *args, **kwargs)\u001b[0m\n\u001b[0;32m   1742\u001b[0m \u001b[38;5;66;03m# If we don't have any hooks, we want to skip the rest of the logic in\u001b[39;00m\n\u001b[0;32m   1743\u001b[0m \u001b[38;5;66;03m# this function, and just call forward.\u001b[39;00m\n\u001b[0;32m   1744\u001b[0m \u001b[38;5;28;01mif\u001b[39;00m \u001b[38;5;129;01mnot\u001b[39;00m (\u001b[38;5;28mself\u001b[39m\u001b[38;5;241m.\u001b[39m_backward_hooks \u001b[38;5;129;01mor\u001b[39;00m \u001b[38;5;28mself\u001b[39m\u001b[38;5;241m.\u001b[39m_backward_pre_hooks \u001b[38;5;129;01mor\u001b[39;00m \u001b[38;5;28mself\u001b[39m\u001b[38;5;241m.\u001b[39m_forward_hooks \u001b[38;5;129;01mor\u001b[39;00m \u001b[38;5;28mself\u001b[39m\u001b[38;5;241m.\u001b[39m_forward_pre_hooks\n\u001b[0;32m   1745\u001b[0m         \u001b[38;5;129;01mor\u001b[39;00m _global_backward_pre_hooks \u001b[38;5;129;01mor\u001b[39;00m _global_backward_hooks\n\u001b[0;32m   1746\u001b[0m         \u001b[38;5;129;01mor\u001b[39;00m _global_forward_hooks \u001b[38;5;129;01mor\u001b[39;00m _global_forward_pre_hooks):\n\u001b[1;32m-> 1747\u001b[0m     \u001b[38;5;28;01mreturn\u001b[39;00m \u001b[43mforward_call\u001b[49m\u001b[43m(\u001b[49m\u001b[38;5;241;43m*\u001b[39;49m\u001b[43margs\u001b[49m\u001b[43m,\u001b[49m\u001b[43m \u001b[49m\u001b[38;5;241;43m*\u001b[39;49m\u001b[38;5;241;43m*\u001b[39;49m\u001b[43mkwargs\u001b[49m\u001b[43m)\u001b[49m\n\u001b[0;32m   1749\u001b[0m result \u001b[38;5;241m=\u001b[39m \u001b[38;5;28;01mNone\u001b[39;00m\n\u001b[0;32m   1750\u001b[0m called_always_called_hooks \u001b[38;5;241m=\u001b[39m \u001b[38;5;28mset\u001b[39m()\n",
      "File \u001b[1;32mc:\\Users\\FPTSHOP\\Desktop\\Project\\2. DeLan model\\Delta_Robot_Project\\Git\\Model\\run\\../model\\LNN_v4.py:134\u001b[0m, in \u001b[0;36mDynamic_System.forward\u001b[1;34m(self, theta_dot, s_dot, theta, z, s, s_Ddot, tau)\u001b[0m\n\u001b[0;32m    123\u001b[0m \u001b[38;5;28;01mdef\u001b[39;00m \u001b[38;5;21mforward\u001b[39m(\n\u001b[0;32m    124\u001b[0m         \u001b[38;5;28mself\u001b[39m, \n\u001b[0;32m    125\u001b[0m         theta_dot: torch\u001b[38;5;241m.\u001b[39mTensor, \n\u001b[1;32m   (...)\u001b[0m\n\u001b[0;32m    131\u001b[0m         tau: torch\u001b[38;5;241m.\u001b[39mTensor \n\u001b[0;32m    132\u001b[0m     ) \u001b[38;5;241m-\u001b[39m\u001b[38;5;241m>\u001b[39m torch\u001b[38;5;241m.\u001b[39mTensor: \n\u001b[1;32m--> 134\u001b[0m     ddLagrangian_dThetaDotdThetaDot, dLagragian_dTheta, ddLagrangian_dThetadThetaDot \u001b[38;5;241m=\u001b[39m \u001b[38;5;28;43mself\u001b[39;49m\u001b[38;5;241;43m.\u001b[39;49m\u001b[43mCompute_Derivatives\u001b[49m\u001b[43m(\u001b[49m\n\u001b[0;32m    135\u001b[0m \u001b[43m        \u001b[49m\u001b[43mtheta_dot\u001b[49m\u001b[43m,\u001b[49m\u001b[43m \u001b[49m\u001b[43ms_dot\u001b[49m\u001b[43m,\u001b[49m\u001b[43m \u001b[49m\u001b[43mtheta\u001b[49m\u001b[43m,\u001b[49m\u001b[43m \u001b[49m\u001b[43mz\u001b[49m\n\u001b[0;32m    136\u001b[0m \u001b[43m    \u001b[49m\u001b[43m)\u001b[49m\n\u001b[0;32m    138\u001b[0m     theta_dot_expanded \u001b[38;5;241m=\u001b[39m theta_dot\u001b[38;5;241m.\u001b[39munsqueeze(\u001b[38;5;241m-\u001b[39m\u001b[38;5;241m1\u001b[39m)\n\u001b[0;32m    140\u001b[0m     \u001b[38;5;66;03m# Compute the result for each batch\u001b[39;00m\n",
      "File \u001b[1;32mc:\\Users\\FPTSHOP\\Desktop\\Project\\2. DeLan model\\Delta_Robot_Project\\Git\\Model\\run\\../model\\LNN_v4.py:99\u001b[0m, in \u001b[0;36mDynamic_System.Compute_Derivatives\u001b[1;34m(self, theta_dot, s_dot, theta, z)\u001b[0m\n\u001b[0;32m     95\u001b[0m Lagrangian_i \u001b[38;5;241m=\u001b[39m \u001b[38;5;28mself\u001b[39m\u001b[38;5;241m.\u001b[39mLagrangian_Function(theta_dot_i, s_dot_i, theta_i, z_i)\u001b[38;5;241m.\u001b[39mrequires_grad_(\u001b[38;5;28;01mTrue\u001b[39;00m)\n\u001b[0;32m     97\u001b[0m dLagrangian_dThetaDot_i \u001b[38;5;241m=\u001b[39m \u001b[38;5;28mself\u001b[39m\u001b[38;5;241m.\u001b[39mcompute_dLagrangian_dThetaDot(theta_i, theta_dot_i, s_dot_i, z_i)\n\u001b[1;32m---> 99\u001b[0m dLagrangian_dTheta_i \u001b[38;5;241m=\u001b[39m \u001b[38;5;28;43mself\u001b[39;49m\u001b[38;5;241;43m.\u001b[39;49m\u001b[43mcompute_dLagrangian_dTheta\u001b[49m\u001b[43m(\u001b[49m\u001b[43mtheta_i\u001b[49m\u001b[43m,\u001b[49m\u001b[43m \u001b[49m\u001b[43mtheta_dot_i\u001b[49m\u001b[43m,\u001b[49m\u001b[43m \u001b[49m\u001b[43ms_dot_i\u001b[49m\u001b[43m,\u001b[49m\u001b[43m \u001b[49m\u001b[43mz_i\u001b[49m\u001b[43m)\u001b[49m\u001b[38;5;241m.\u001b[39mpermute(\u001b[38;5;241m1\u001b[39m, \u001b[38;5;241m0\u001b[39m)\n\u001b[0;32m    101\u001b[0m ddLagrangian_dThetaDotdThetaDot_i \u001b[38;5;241m=\u001b[39m torch\u001b[38;5;241m.\u001b[39mautograd\u001b[38;5;241m.\u001b[39mfunctional\u001b[38;5;241m.\u001b[39mjacobian(\n\u001b[0;32m    102\u001b[0m     \u001b[38;5;28;01mlambda\u001b[39;00m theta_dot_i: \u001b[38;5;28mself\u001b[39m\u001b[38;5;241m.\u001b[39mcompute_dLagrangian_dThetaDot(theta_i, theta_dot_i, s_dot_i, z_i),\n\u001b[0;32m    103\u001b[0m     theta_dot_i\n\u001b[0;32m    104\u001b[0m )\u001b[38;5;241m.\u001b[39msqueeze()\n\u001b[0;32m    106\u001b[0m ddLagrangian_dThetadThetaDot_i \u001b[38;5;241m=\u001b[39m torch\u001b[38;5;241m.\u001b[39mautograd\u001b[38;5;241m.\u001b[39mfunctional\u001b[38;5;241m.\u001b[39mjacobian(\n\u001b[0;32m    107\u001b[0m     \u001b[38;5;28;01mlambda\u001b[39;00m theta_dot_i: \u001b[38;5;28mself\u001b[39m\u001b[38;5;241m.\u001b[39mcompute_dLagrangian_dTheta(theta_i, theta_dot_i, s_dot_i, z_i),\n\u001b[0;32m    108\u001b[0m     theta_dot_i\n\u001b[0;32m    109\u001b[0m )\u001b[38;5;241m.\u001b[39msqueeze()\n",
      "File \u001b[1;32mc:\\Users\\FPTSHOP\\Desktop\\Project\\2. DeLan model\\Delta_Robot_Project\\Git\\Model\\run\\../model\\LNN_v4.py:60\u001b[0m, in \u001b[0;36mDynamic_System.compute_dLagrangian_dTheta\u001b[1;34m(self, theta, theta_dot, s_dot, z)\u001b[0m\n\u001b[0;32m     50\u001b[0m \u001b[38;5;28;01mdef\u001b[39;00m \u001b[38;5;21mcompute_dLagrangian_dTheta\u001b[39m(\n\u001b[0;32m     51\u001b[0m         \u001b[38;5;28mself\u001b[39m, \n\u001b[0;32m     52\u001b[0m         theta, \n\u001b[1;32m   (...)\u001b[0m\n\u001b[0;32m     55\u001b[0m         z\n\u001b[0;32m     56\u001b[0m     ):\n\u001b[0;32m     58\u001b[0m     Lagrangian \u001b[38;5;241m=\u001b[39m \u001b[38;5;28mself\u001b[39m\u001b[38;5;241m.\u001b[39mLagrangian_Function(theta_dot, s_dot, theta, z)\u001b[38;5;241m.\u001b[39mrequires_grad_(\u001b[38;5;28;01mTrue\u001b[39;00m)\n\u001b[1;32m---> 60\u001b[0m     dLagrangian_dTheta \u001b[38;5;241m=\u001b[39m \u001b[43mtorch\u001b[49m\u001b[38;5;241;43m.\u001b[39;49m\u001b[43mautograd\u001b[49m\u001b[38;5;241;43m.\u001b[39;49m\u001b[43mgrad\u001b[49m\u001b[43m(\u001b[49m\n\u001b[0;32m     61\u001b[0m \u001b[43m        \u001b[49m\u001b[43moutputs\u001b[49m\u001b[38;5;241;43m=\u001b[39;49m\u001b[43mLagrangian\u001b[49m\u001b[43m,\u001b[49m\n\u001b[0;32m     62\u001b[0m \u001b[43m        \u001b[49m\u001b[43minputs\u001b[49m\u001b[38;5;241;43m=\u001b[39;49m\u001b[43mtheta\u001b[49m\u001b[43m,\u001b[49m\n\u001b[0;32m     63\u001b[0m \u001b[43m        \u001b[49m\u001b[43mgrad_outputs\u001b[49m\u001b[38;5;241;43m=\u001b[39;49m\u001b[43mtorch\u001b[49m\u001b[38;5;241;43m.\u001b[39;49m\u001b[43mones_like\u001b[49m\u001b[43m(\u001b[49m\u001b[43mLagrangian\u001b[49m\u001b[43m)\u001b[49m\u001b[43m,\u001b[49m\n\u001b[0;32m     64\u001b[0m \u001b[43m        \u001b[49m\u001b[43mcreate_graph\u001b[49m\u001b[38;5;241;43m=\u001b[39;49m\u001b[38;5;28;43;01mTrue\u001b[39;49;00m\u001b[43m,\u001b[49m\n\u001b[0;32m     65\u001b[0m \u001b[43m        \u001b[49m\u001b[43mretain_graph\u001b[49m\u001b[38;5;241;43m=\u001b[39;49m\u001b[38;5;28;43;01mTrue\u001b[39;49;00m\u001b[43m,\u001b[49m\n\u001b[0;32m     66\u001b[0m \u001b[43m        \u001b[49m\u001b[43mallow_unused\u001b[49m\u001b[38;5;241;43m=\u001b[39;49m\u001b[38;5;28;43;01mFalse\u001b[39;49;00m\n\u001b[0;32m     67\u001b[0m \u001b[43m    \u001b[49m\u001b[43m)\u001b[49m[\u001b[38;5;241m0\u001b[39m]\n\u001b[0;32m     69\u001b[0m     \u001b[38;5;28;01mreturn\u001b[39;00m dLagrangian_dTheta\n",
      "File \u001b[1;32mc:\\Users\\FPTSHOP\\anaconda3\\envs\\DemoPublicationEnv\\Lib\\site-packages\\torch\\autograd\\__init__.py:496\u001b[0m, in \u001b[0;36mgrad\u001b[1;34m(outputs, inputs, grad_outputs, retain_graph, create_graph, only_inputs, allow_unused, is_grads_batched, materialize_grads)\u001b[0m\n\u001b[0;32m    492\u001b[0m     result \u001b[38;5;241m=\u001b[39m _vmap_internals\u001b[38;5;241m.\u001b[39m_vmap(vjp, \u001b[38;5;241m0\u001b[39m, \u001b[38;5;241m0\u001b[39m, allow_none_pass_through\u001b[38;5;241m=\u001b[39m\u001b[38;5;28;01mTrue\u001b[39;00m)(\n\u001b[0;32m    493\u001b[0m         grad_outputs_\n\u001b[0;32m    494\u001b[0m     )\n\u001b[0;32m    495\u001b[0m \u001b[38;5;28;01melse\u001b[39;00m:\n\u001b[1;32m--> 496\u001b[0m     result \u001b[38;5;241m=\u001b[39m \u001b[43m_engine_run_backward\u001b[49m\u001b[43m(\u001b[49m\n\u001b[0;32m    497\u001b[0m \u001b[43m        \u001b[49m\u001b[43moutputs\u001b[49m\u001b[43m,\u001b[49m\n\u001b[0;32m    498\u001b[0m \u001b[43m        \u001b[49m\u001b[43mgrad_outputs_\u001b[49m\u001b[43m,\u001b[49m\n\u001b[0;32m    499\u001b[0m \u001b[43m        \u001b[49m\u001b[43mretain_graph\u001b[49m\u001b[43m,\u001b[49m\n\u001b[0;32m    500\u001b[0m \u001b[43m        \u001b[49m\u001b[43mcreate_graph\u001b[49m\u001b[43m,\u001b[49m\n\u001b[0;32m    501\u001b[0m \u001b[43m        \u001b[49m\u001b[43minputs\u001b[49m\u001b[43m,\u001b[49m\n\u001b[0;32m    502\u001b[0m \u001b[43m        \u001b[49m\u001b[43mallow_unused\u001b[49m\u001b[43m,\u001b[49m\n\u001b[0;32m    503\u001b[0m \u001b[43m        \u001b[49m\u001b[43maccumulate_grad\u001b[49m\u001b[38;5;241;43m=\u001b[39;49m\u001b[38;5;28;43;01mFalse\u001b[39;49;00m\u001b[43m,\u001b[49m\n\u001b[0;32m    504\u001b[0m \u001b[43m    \u001b[49m\u001b[43m)\u001b[49m\n\u001b[0;32m    505\u001b[0m \u001b[38;5;28;01mif\u001b[39;00m materialize_grads:\n\u001b[0;32m    506\u001b[0m     \u001b[38;5;28;01mif\u001b[39;00m \u001b[38;5;28many\u001b[39m(\n\u001b[0;32m    507\u001b[0m         result[i] \u001b[38;5;129;01mis\u001b[39;00m \u001b[38;5;28;01mNone\u001b[39;00m \u001b[38;5;129;01mand\u001b[39;00m \u001b[38;5;129;01mnot\u001b[39;00m is_tensor_like(inputs[i])\n\u001b[0;32m    508\u001b[0m         \u001b[38;5;28;01mfor\u001b[39;00m i \u001b[38;5;129;01min\u001b[39;00m \u001b[38;5;28mrange\u001b[39m(\u001b[38;5;28mlen\u001b[39m(inputs))\n\u001b[0;32m    509\u001b[0m     ):\n",
      "File \u001b[1;32mc:\\Users\\FPTSHOP\\anaconda3\\envs\\DemoPublicationEnv\\Lib\\site-packages\\torch\\autograd\\graph.py:825\u001b[0m, in \u001b[0;36m_engine_run_backward\u001b[1;34m(t_outputs, *args, **kwargs)\u001b[0m\n\u001b[0;32m    823\u001b[0m     unregister_hooks \u001b[38;5;241m=\u001b[39m _register_logging_hooks_on_whole_graph(t_outputs)\n\u001b[0;32m    824\u001b[0m \u001b[38;5;28;01mtry\u001b[39;00m:\n\u001b[1;32m--> 825\u001b[0m     \u001b[38;5;28;01mreturn\u001b[39;00m \u001b[43mVariable\u001b[49m\u001b[38;5;241;43m.\u001b[39;49m\u001b[43m_execution_engine\u001b[49m\u001b[38;5;241;43m.\u001b[39;49m\u001b[43mrun_backward\u001b[49m\u001b[43m(\u001b[49m\u001b[43m  \u001b[49m\u001b[38;5;66;43;03m# Calls into the C++ engine to run the backward pass\u001b[39;49;00m\n\u001b[0;32m    826\u001b[0m \u001b[43m        \u001b[49m\u001b[43mt_outputs\u001b[49m\u001b[43m,\u001b[49m\u001b[43m \u001b[49m\u001b[38;5;241;43m*\u001b[39;49m\u001b[43margs\u001b[49m\u001b[43m,\u001b[49m\u001b[43m \u001b[49m\u001b[38;5;241;43m*\u001b[39;49m\u001b[38;5;241;43m*\u001b[39;49m\u001b[43mkwargs\u001b[49m\n\u001b[0;32m    827\u001b[0m \u001b[43m    \u001b[49m\u001b[43m)\u001b[49m  \u001b[38;5;66;03m# Calls into the C++ engine to run the backward pass\u001b[39;00m\n\u001b[0;32m    828\u001b[0m \u001b[38;5;28;01mfinally\u001b[39;00m:\n\u001b[0;32m    829\u001b[0m     \u001b[38;5;28;01mif\u001b[39;00m attach_logging_hooks:\n",
      "\u001b[1;31mKeyboardInterrupt\u001b[0m: "
     ]
    }
   ],
   "source": [
    "device = 'cuda' if torch.cuda.is_available() else 'cpu'\n",
    "dynamic_system_instance = Dynamic_System(device)\n",
    "\n",
    "builder = KFoldTraining(device = device, dataset = data_set, k_folds = 5, dynamic_system_instance = dynamic_system_instance)\n",
    "builder.train(epochs = 80, batch_size = 64, learning_rate = 1e-4)"
   ]
  }
 ],
 "metadata": {
  "kernelspec": {
   "display_name": "DemoPublicationEnv",
   "language": "python",
   "name": "python3"
  },
  "language_info": {
   "codemirror_mode": {
    "name": "ipython",
    "version": 3
   },
   "file_extension": ".py",
   "mimetype": "text/x-python",
   "name": "python",
   "nbconvert_exporter": "python",
   "pygments_lexer": "ipython3",
   "version": "3.12.7"
  }
 },
 "nbformat": 4,
 "nbformat_minor": 2
}
